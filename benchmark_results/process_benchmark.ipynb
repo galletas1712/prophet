{
 "cells": [
  {
   "cell_type": "code",
   "execution_count": 10,
   "metadata": {},
   "outputs": [],
   "source": [
    "import pandas as pd"
   ]
  },
  {
   "cell_type": "code",
   "execution_count": 16,
   "metadata": {},
   "outputs": [],
   "source": [
    "df_srpt = pd.read_csv('both_srpt.csv')\n",
    "df_mlfq = pd.read_csv('decode_mlfq.csv')"
   ]
  },
  {
   "cell_type": "code",
   "execution_count": 17,
   "metadata": {},
   "outputs": [],
   "source": [
    "def show_stats(df): \n",
    "  # print the mean, max, min for all the columns. Ingore when the value of the float is inf\n",
    "  for col in df.columns:\n",
    "      if df[col].dtype == 'float64':\n",
    "          col_no_inf = df[col].replace([float('inf'), float('-inf')], pd.NA)\n",
    "          print(f'{col}: mean={col_no_inf.mean()}, max={col_no_inf.max()}, min={col_no_inf.min()}')\n"
   ]
  },
  {
   "cell_type": "code",
   "execution_count": 18,
   "metadata": {},
   "outputs": [
    {
     "name": "stdout",
     "output_type": "stream",
     "text": [
      "JCT: mean=10.58180303030303, max=28.22, min=0.116\n",
      "TTFT: mean=1.6630606060606061, max=18.821, min=0.098\n",
      "TPOT: mean=0.052107692307692306, max=0.095, min=0.045\n",
      "TTFPT: mean=0.1987878787878788, max=1.63, min=0.052\n",
      "TPODT: mean=0.06806060606060606, max=0.366, min=0.045\n"
     ]
    }
   ],
   "source": [
    "show_stats(df_srpt)"
   ]
  },
  {
   "cell_type": "code",
   "execution_count": 19,
   "metadata": {},
   "outputs": [
    {
     "name": "stdout",
     "output_type": "stream",
     "text": [
      "JCT: mean=8.773704225352112, max=24.109, min=0.38\n",
      "TTFT: mean=0.3065774647887323, max=2.289, min=0.096\n",
      "TPOT: mean=0.058257142857142834, max=0.154, min=0.045\n",
      "TTFPT: mean=0.22621126760563381, max=2.225, min=0.049\n",
      "TPODT: mean=0.0592112676056338, max=0.153, min=0.045\n"
     ]
    }
   ],
   "source": [
    "show_stats(df_mlfq)"
   ]
  },
  {
   "cell_type": "code",
   "execution_count": null,
   "metadata": {},
   "outputs": [],
   "source": []
  }
 ],
 "metadata": {
  "kernelspec": {
   "display_name": "cs244b",
   "language": "python",
   "name": "python3"
  },
  "language_info": {
   "codemirror_mode": {
    "name": "ipython",
    "version": 3
   },
   "file_extension": ".py",
   "mimetype": "text/x-python",
   "name": "python",
   "nbconvert_exporter": "python",
   "pygments_lexer": "ipython3",
   "version": "3.12.3"
  }
 },
 "nbformat": 4,
 "nbformat_minor": 2
}
